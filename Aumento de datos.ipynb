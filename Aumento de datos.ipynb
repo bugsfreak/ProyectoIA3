{
 "cells": [
  {
   "cell_type": "code",
   "execution_count": 4,
   "id": "c6404326",
   "metadata": {},
   "outputs": [],
   "source": [
    "from keras.preprocessing.image import ImageDataGenerator\n",
    "datagen = ImageDataGenerator(\n",
    "        rotation_range=40,\n",
    "        width_shift_range=0.2, #ancho_desplazamiento_rango\n",
    "        height_shift_range=0.2, #alto_desplazamiento_rango\n",
    "        rescale=1./255, # factor de escala \n",
    "        shear_range=0.2,\n",
    "        zoom_range=0.4,\n",
    "        horizontal_flip=True,\n",
    "        fill_mode='nearest')"
   ]
  },
  {
   "cell_type": "code",
   "execution_count": 3,
   "id": "e6a928bf",
   "metadata": {},
   "outputs": [
    {
     "name": "stdout",
     "output_type": "stream",
     "text": [
      "fdfdfdfd\n"
     ]
    }
   ],
   "source": [
    "import os #Nos permite realizar operaciones como crear carpeta, listas contenidos etc. \n",
    "import matplotlib.pyplot as plt #Permitirá visualizar las imágenes\n",
    "from keras.models import Sequential #Keras para procesamiento de imagen\n",
    "from keras.utils import to_categorical #Para categorizar variables\n",
    "from tensorflow.keras import layers #Importación de librerias\n",
    "import pathlib #manipular rutas de sistemas de archivos\n",
    "import numpy as np # manejo de datos extremadamente rápido. \n",
    "import tensorflow as TF #crear gráficos de flujo de datos,\n",
    "from sklearn import preprocessing  #proporciona varias funciones de utilidad comunes\n",
    "#para realizar operaciones simples con imágenes como: Abrir y guardar imágenes.\n",
    "#Dibujar formas simples en imágenes. Escribir en imágenes.\n",
    "import cv2\n",
    "os.environ['TF_CPP_MIN_LOG_LEVEL'] = '3' #establecer variables de entorno\n",
    "import shutil #Mueve de forma recursiva un archivo o directorio\n",
    "import glob #devuelve una lista con las entradas \n",
    "#Pandas nos permite obtener columnas o filas de nuestros datos de forma muy fácil e intuitiva.\n",
    "import pandas as pd\n",
    "import seaborn as sn #visualización de datos para Python\n",
    "#Procesamiento de imagenes\n",
    "from tensorflow.keras.utils import img_to_array,  array_to_img, img_to_array, load_img \n",
    "#abrir, manipular y guardar muchos formatos de archivo de imagen diferentes.\n",
    "from  PIL  import Image\n",
    "#Romver el fondo\n",
    "from rembg import remove\n",
    "# procesamiento de imagen\n",
    "from sklearn.preprocessing import MinMaxScaler\n",
    "import h5py\n",
    "from time import sleep\n",
    "print(\"fdfdfdfd\")"
   ]
  },
  {
   "cell_type": "code",
   "execution_count": 5,
   "id": "42e5b1e5",
   "metadata": {},
   "outputs": [],
   "source": [
    "# Para todas las clases"
   ]
  },
  {
   "cell_type": "code",
   "execution_count": 5,
   "id": "d6ae16dd",
   "metadata": {},
   "outputs": [],
   "source": [
    "#Seleccionamos la carpeta donde para el aumento de datos y la clase\n",
    "os.chdir(r\"C:\\Users\\JHONZ\\Desktop\\V2-IAPRO\\AumentoDatos\\ArielChabla\")\n",
    "for path in os.listdir():  #Se itera en cada carpeta\n",
    "    img = load_img(f\"{path}\") #Cargamos la imagen del directorio\n",
    "    x = img_to_array(img)    # matriz de la foto\n",
    "    x = x.reshape((1,) + x.shape) #para poder ver la forma del arreglo\n",
    "    i = 0 #Difinimos i=0\n",
    "    for batch in datagen.flow(x, batch_size=1, # Interamos en el lote de la imagen\n",
    "            save_to_dir=\".\",  #Guardamos en el directorio\n",
    "            save_prefix= 'ArielChabla', #Un mensaje para guardar\n",
    "            save_format='jpg'): #Formato de la imagen\n",
    "        i += 1 #Autoincremente\n",
    "        if i == 20:     ## crea 10 imagenes por 1 imagen \n",
    "            break #Cierra del break"
   ]
  },
  {
   "cell_type": "code",
   "execution_count": 6,
   "id": "f0a424bc",
   "metadata": {},
   "outputs": [],
   "source": [
    "#Seleccionamos la carpeta donde para el aumento de datos y la clase\n",
    "os.chdir(r\"C:\\Users\\JHONZ\\Desktop\\V2-IAPRO\\AumentoDatos\\ArroboMercy\")\n",
    "for path in os.listdir():  #Se itera en cada carpeta\n",
    "    img = load_img(f\"{path}\") #Cargamos la imagen del directorio\n",
    "    x = img_to_array(img)    # matriz de la foto\n",
    "    x = x.reshape((1,) + x.shape) #para poder ver la forma del arreglo\n",
    "    i = 0 #Difinimos i=0\n",
    "    for batch in datagen.flow(x, batch_size=1, # Interamos en el lote de la imagen\n",
    "            save_to_dir=\".\",  #Guardamos en el directorio\n",
    "            save_prefix= 'ArroboMercy', #Un mensaje para guardar\n",
    "            save_format='jpg'): #Formato de la imagen\n",
    "        i += 1 #Autoincremente\n",
    "        if i == 20:     ## crea 10 imagenes por 1 imagen \n",
    "            break #Cierra del break"
   ]
  },
  {
   "cell_type": "code",
   "execution_count": 7,
   "id": "0960cf5d",
   "metadata": {},
   "outputs": [],
   "source": [
    "#Seleccionamos la carpeta donde para el aumento de datos y la clase\n",
    "os.chdir(r\"C:\\Users\\JHONZ\\Desktop\\V2-IAPRO\\AumentoDatos\\BarraganSteven\")\n",
    "for path in os.listdir():  #Se itera en cada carpeta\n",
    "    img = load_img(f\"{path}\") #Cargamos la imagen del directorio\n",
    "    x = img_to_array(img)    # matriz de la foto\n",
    "    x = x.reshape((1,) + x.shape) #para poder ver la forma del arreglo\n",
    "    i = 0 #Difinimos i=0\n",
    "    for batch in datagen.flow(x, batch_size=1, # Interamos en el lote de la imagen\n",
    "            save_to_dir=\".\",  #Guardamos en el directorio\n",
    "            save_prefix= 'BarraganSteven', #Un mensaje para guardar\n",
    "            save_format='jpg'): #Formato de la imagen\n",
    "        i += 1 #Autoincremente\n",
    "        if i == 20:     ## crea 10 imagenes por 1 imagen \n",
    "            break #Cierra del break"
   ]
  },
  {
   "cell_type": "code",
   "execution_count": null,
   "id": "1ad75c82",
   "metadata": {},
   "outputs": [],
   "source": []
  },
  {
   "cell_type": "code",
   "execution_count": null,
   "id": "6def2da4",
   "metadata": {},
   "outputs": [],
   "source": []
  },
  {
   "cell_type": "code",
   "execution_count": null,
   "id": "cb8e3ea8",
   "metadata": {},
   "outputs": [],
   "source": []
  },
  {
   "cell_type": "code",
   "execution_count": null,
   "id": "c52dec62",
   "metadata": {},
   "outputs": [],
   "source": []
  },
  {
   "cell_type": "code",
   "execution_count": 8,
   "id": "2393aa87",
   "metadata": {},
   "outputs": [],
   "source": [
    "#Seleccionamos la carpeta donde para el aumento de datos y la clase\n",
    "os.chdir(r\"C:\\Users\\JHONZ\\Desktop\\V2-IAPRO\\AumentoDatos\\CevallosJoan\")\n",
    "for path in os.listdir():  #Se itera en cada carpeta\n",
    "    img = load_img(f\"{path}\") #Cargamos la imagen del directorio\n",
    "    x = img_to_array(img)    # matriz de la foto\n",
    "    x = x.reshape((1,) + x.shape) #para poder ver la forma del arreglo\n",
    "    i = 0 #Difinimos i=0\n",
    "    for batch in datagen.flow(x, batch_size=1, # Interamos en el lote de la imagen\n",
    "            save_to_dir=\".\",  #Guardamos en el directorio\n",
    "            save_prefix= 'CevallosJoan', #Un mensaje para guardar\n",
    "            save_format='jpg'): #Formato de la imagen\n",
    "        i += 1 #Autoincremente\n",
    "        if i == 10:     ## crea 10 imagenes por 1 imagen \n",
    "            break #Cierra del break"
   ]
  },
  {
   "cell_type": "code",
   "execution_count": 9,
   "id": "5dd4338c",
   "metadata": {},
   "outputs": [],
   "source": [
    "#Seleccionamos la carpeta donde para el aumento de datos y la clase\n",
    "os.chdir(r\"C:\\Users\\JHONZ\\Desktop\\V2-IAPRO\\AumentoDatos\\EnriquezSelena\")\n",
    "for path in os.listdir():  #Se itera en cada carpeta\n",
    "    img = load_img(f\"{path}\") #Cargamos la imagen del directorio\n",
    "    x = img_to_array(img)    # matriz de la foto\n",
    "    x = x.reshape((1,) + x.shape) #para poder ver la forma del arreglo\n",
    "    i = 0 #Difinimos i=0\n",
    "    for batch in datagen.flow(x, batch_size=1, # Interamos en el lote de la imagen\n",
    "            save_to_dir=\".\",  #Guardamos en el directorio\n",
    "            save_prefix= 'EnriquezSelena', #Un mensaje para guardar\n",
    "            save_format='jpg'): #Formato de la imagen\n",
    "        i += 1 #Autoincremente\n",
    "        if i == 10:     ## crea 10 imagenes por 1 imagen \n",
    "            break #Cierra del break"
   ]
  },
  {
   "cell_type": "code",
   "execution_count": 10,
   "id": "d7c02a90",
   "metadata": {},
   "outputs": [],
   "source": [
    "#Seleccionamos la carpeta donde para el aumento de datos y la clase\n",
    "os.chdir(r\"C:\\Users\\JHONZ\\Desktop\\V2-IAPRO\\AumentoDatos\\GenesisHeredia\")\n",
    "for path in os.listdir():  #Se itera en cada carpeta\n",
    "    img = load_img(f\"{path}\") #Cargamos la imagen del directorio\n",
    "    x = img_to_array(img)    # matriz de la foto\n",
    "    x = x.reshape((1,) + x.shape) #para poder ver la forma del arreglo\n",
    "    i = 0 #Difinimos i=0\n",
    "    for batch in datagen.flow(x, batch_size=1, # Interamos en el lote de la imagen\n",
    "            save_to_dir=\".\",  #Guardamos en el directorio\n",
    "            save_prefix= 'GenesisHeredia', #Un mensaje para guardar\n",
    "            save_format='jpg'): #Formato de la imagen\n",
    "        i += 1 #Autoincremente\n",
    "        if i == 10:     ## crea 10 imagenes por 1 imagen \n",
    "            break #Cierra del break"
   ]
  },
  {
   "cell_type": "code",
   "execution_count": 11,
   "id": "7e054fe3",
   "metadata": {},
   "outputs": [],
   "source": [
    "#Seleccionamos la carpeta donde para el aumento de datos y la clase\n",
    "os.chdir(r\"C:\\Users\\JHONZ\\Desktop\\V2-IAPRO\\AumentoDatos\\GoyesAnthony\")\n",
    "for path in os.listdir():  #Se itera en cada carpeta\n",
    "    img = load_img(f\"{path}\") #Cargamos la imagen del directorio\n",
    "    x = img_to_array(img)    # matriz de la foto\n",
    "    x = x.reshape((1,) + x.shape) #para poder ver la forma del arreglo\n",
    "    i = 0 #Difinimos i=0\n",
    "    for batch in datagen.flow(x, batch_size=1, # Interamos en el lote de la imagen\n",
    "            save_to_dir=\".\",  #Guardamos en el directorio\n",
    "            save_prefix= 'GoyesAnthony', #Un mensaje para guardar\n",
    "            save_format='jpg'): #Formato de la imagen\n",
    "        i += 1 #Autoincremente\n",
    "        if i == 10:     ## crea 10 imagenes por 1 imagen \n",
    "            break #Cierra del break"
   ]
  },
  {
   "cell_type": "code",
   "execution_count": 12,
   "id": "6ec4c8a8",
   "metadata": {},
   "outputs": [],
   "source": [
    "\n",
    "#Seleccionamos la carpeta donde para el aumento de datos y la clase\n",
    "os.chdir(r\"C:\\Users\\JHONZ\\Desktop\\V2-IAPRO\\AumentoDatos\\HectorCedeno\")\n",
    "for path in os.listdir():  #Se itera en cada carpeta\n",
    "    img = load_img(f\"{path}\") #Cargamos la imagen del directorio\n",
    "    x = img_to_array(img)    # matriz de la foto\n",
    "    x = x.reshape((1,) + x.shape) #para poder ver la forma del arreglo\n",
    "    i = 0 #Difinimos i=0\n",
    "    for batch in datagen.flow(x, batch_size=1, # Interamos en el lote de la imagen\n",
    "            save_to_dir=\".\",  #Guardamos en el directorio\n",
    "            save_prefix= 'HectorCedeno', #Un mensaje para guardar\n",
    "            save_format='jpg'): #Formato de la imagen\n",
    "        i += 1 #Autoincremente\n",
    "        if i == 10:     ## crea 10 imagenes por 1 imagen \n",
    "            break #Cierra del break"
   ]
  },
  {
   "cell_type": "code",
   "execution_count": 13,
   "id": "fa7d8af0",
   "metadata": {},
   "outputs": [],
   "source": [
    "#Seleccionamos la carpeta donde para el aumento de datos y la clase\n",
    "os.chdir(r\"C:\\Users\\JHONZ\\Desktop\\V2-IAPRO\\AumentoDatos\\JhonZambrano\")\n",
    "for path in os.listdir():  #Se itera en cada carpeta\n",
    "    img = load_img(f\"{path}\") #Cargamos la imagen del directorio\n",
    "    x = img_to_array(img)    # matriz de la foto\n",
    "    x = x.reshape((1,) + x.shape) #para poder ver la forma del arreglo\n",
    "    i = 0 #Difinimos i=0\n",
    "    for batch in datagen.flow(x, batch_size=1, # Interamos en el lote de la imagen\n",
    "            save_to_dir=\".\",  #Guardamos en el directorio\n",
    "            save_prefix= 'JhonZambrano', #Un mensaje para guardar\n",
    "            save_format='jpg'): #Formato de la imagen\n",
    "        i += 1 #Autoincremente\n",
    "        if i == 10:     ## crea 10 imagenes por 1 imagen \n",
    "            break #Cierra del break"
   ]
  },
  {
   "cell_type": "code",
   "execution_count": 15,
   "id": "fddbf7cd",
   "metadata": {},
   "outputs": [],
   "source": [
    "#Seleccionamos la carpeta donde para el aumento de datos y la clase\n",
    "os.chdir(r\"C:\\Users\\JHONZ\\Desktop\\V2-IAPRO\\AumentoDatos\\JordanEspinosa\")\n",
    "for path in os.listdir():  #Se itera en cada carpeta\n",
    "    img = load_img(f\"{path}\") #Cargamos la imagen del directorio\n",
    "    x = img_to_array(img)    # matriz de la foto\n",
    "    x = x.reshape((1,) + x.shape) #para poder ver la forma del arreglo\n",
    "    i = 0 #Difinimos i=0\n",
    "    for batch in datagen.flow(x, batch_size=1, # Interamos en el lote de la imagen\n",
    "            save_to_dir=\".\",  #Guardamos en el directorio\n",
    "            save_prefix= 'JordanEspinoza', #Un mensaje para guardar\n",
    "            save_format='jpg'): #Formato de la imagen\n",
    "        i += 1 #Autoincremente\n",
    "        if i == 10:     ## crea 10 imagenes por 1 imagen \n",
    "            break #Cierra del break"
   ]
  },
  {
   "cell_type": "code",
   "execution_count": 16,
   "id": "afcd93cf",
   "metadata": {},
   "outputs": [],
   "source": [
    "#Seleccionamos la carpeta donde para el aumento de datos y la clase\n",
    "os.chdir(r\"C:\\Users\\JHONZ\\Desktop\\V2-IAPRO\\AumentoDatos\\JoseRuiz\")\n",
    "for path in os.listdir():  #Se itera en cada carpeta\n",
    "    img = load_img(f\"{path}\") #Cargamos la imagen del directorio\n",
    "    x = img_to_array(img)    # matriz de la foto\n",
    "    x = x.reshape((1,) + x.shape) #para poder ver la forma del arreglo\n",
    "    i = 0 #Difinimos i=0\n",
    "    for batch in datagen.flow(x, batch_size=1, # Interamos en el lote de la imagen\n",
    "            save_to_dir=\".\",  #Guardamos en el directorio\n",
    "            save_prefix= 'JoseRuiz', #Un mensaje para guardar\n",
    "            save_format='jpg'): #Formato de la imagen\n",
    "        i += 1 #Autoincremente\n",
    "        if i == 10:     ## crea 10 imagenes por 1 imagen \n",
    "            break #Cierra del break"
   ]
  },
  {
   "cell_type": "code",
   "execution_count": 17,
   "id": "57f02f39",
   "metadata": {},
   "outputs": [],
   "source": [
    "#Seleccionamos la carpeta donde para el aumento de datos y la clase\n",
    "os.chdir(r\"C:\\Users\\JHONZ\\Desktop\\V2-IAPRO\\AumentoDatos\\LucioCarlos\")\n",
    "for path in os.listdir():  #Se itera en cada carpeta\n",
    "    img = load_img(f\"{path}\") #Cargamos la imagen del directorio\n",
    "    x = img_to_array(img)    # matriz de la foto\n",
    "    x = x.reshape((1,) + x.shape) #para poder ver la forma del arreglo\n",
    "    i = 0 #Difinimos i=0\n",
    "    for batch in datagen.flow(x, batch_size=1, # Interamos en el lote de la imagen\n",
    "            save_to_dir=\".\",  #Guardamos en el directorio\n",
    "            save_prefix= 'LucioCarlos', #Un mensaje para guardar\n",
    "            save_format='jpg'): #Formato de la imagen\n",
    "        i += 1 #Autoincremente\n",
    "        if i == 10:     ## crea 10 imagenes por 1 imagen \n",
    "            break #Cierra del break"
   ]
  },
  {
   "cell_type": "code",
   "execution_count": null,
   "id": "29d11007",
   "metadata": {},
   "outputs": [],
   "source": []
  },
  {
   "cell_type": "code",
   "execution_count": 18,
   "id": "ca460ed9",
   "metadata": {},
   "outputs": [],
   "source": [
    "\n",
    "#Seleccionamos la carpeta donde para el aumento de datos y la clase\n",
    "os.chdir(r\"C:\\Users\\JHONZ\\Desktop\\V2-IAPRO\\AumentoDatos\\MariaJose\")\n",
    "for path in os.listdir():  #Se itera en cada carpeta\n",
    "    img = load_img(f\"{path}\") #Cargamos la imagen del directorio\n",
    "    x = img_to_array(img)    # matriz de la foto\n",
    "    x = x.reshape((1,) + x.shape) #para poder ver la forma del arreglo\n",
    "    i = 0 #Difinimos i=0\n",
    "    for batch in datagen.flow(x, batch_size=1, # Interamos en el lote de la imagen\n",
    "            save_to_dir=\".\",  #Guardamos en el directorio\n",
    "            save_prefix= 'MariaJose', #Un mensaje para guardar\n",
    "            save_format='jpg'): #Formato de la imagen\n",
    "        i += 1 #Autoincremente\n",
    "        if i == 10:     ## crea 10 imagenes por 1 imagen \n",
    "            break #Cierra del break"
   ]
  },
  {
   "cell_type": "code",
   "execution_count": 19,
   "id": "93149c9f",
   "metadata": {},
   "outputs": [],
   "source": [
    "#Seleccionamos la carpeta donde para el aumento de datos y la clase\n",
    "os.chdir(r\"C:\\Users\\JHONZ\\Desktop\\V2-IAPRO\\AumentoDatos\\MasacheFernando\")\n",
    "for path in os.listdir():  #Se itera en cada carpeta\n",
    "    img = load_img(f\"{path}\") #Cargamos la imagen del directorio\n",
    "    x = img_to_array(img)    # matriz de la foto\n",
    "    x = x.reshape((1,) + x.shape) #para poder ver la forma del arreglo\n",
    "    i = 0 #Difinimos i=0\n",
    "    for batch in datagen.flow(x, batch_size=1, # Interamos en el lote de la imagen\n",
    "            save_to_dir=\".\",  #Guardamos en el directorio\n",
    "            save_prefix= 'MasacheFernando', #Un mensaje para guardar\n",
    "            save_format='jpg'): #Formato de la imagen\n",
    "        i += 1 #Autoincremente\n",
    "        if i == 10:     ## crea 10 imagenes por 1 imagen \n",
    "            break #Cierra del break"
   ]
  },
  {
   "cell_type": "code",
   "execution_count": 20,
   "id": "3eec8bca",
   "metadata": {},
   "outputs": [],
   "source": [
    "#Seleccionamos la carpeta donde para el aumento de datos y la clase\n",
    "os.chdir(r\"C:\\Users\\JHONZ\\Desktop\\V2-IAPRO\\AumentoDatos\\MelanyLopez\")\n",
    "for path in os.listdir():  #Se itera en cada carpeta\n",
    "    img = load_img(f\"{path}\") #Cargamos la imagen del directorio\n",
    "    x = img_to_array(img)    # matriz de la foto\n",
    "    x = x.reshape((1,) + x.shape) #para poder ver la forma del arreglo\n",
    "    i = 0 #Difinimos i=0\n",
    "    for batch in datagen.flow(x, batch_size=1, # Interamos en el lote de la imagen\n",
    "            save_to_dir=\".\",  #Guardamos en el directorio\n",
    "            save_prefix= 'MelanyLopez', #Un mensaje para guardar\n",
    "            save_format='jpg'): #Formato de la imagen\n",
    "        i += 1 #Autoincremente\n",
    "        if i == 10:     ## crea 10 imagenes por 1 imagen \n",
    "            break #Cierra del break"
   ]
  },
  {
   "cell_type": "code",
   "execution_count": 21,
   "id": "61c8118d",
   "metadata": {},
   "outputs": [],
   "source": [
    "\n",
    "#Seleccionamos la carpeta donde para el aumento de datos y la clase\n",
    "os.chdir(r\"C:\\Users\\JHONZ\\Desktop\\V2-IAPRO\\AumentoDatos\\MosqueraLucy\")\n",
    "for path in os.listdir():  #Se itera en cada carpeta\n",
    "    img = load_img(f\"{path}\") #Cargamos la imagen del directorio\n",
    "    x = img_to_array(img)    # matriz de la foto\n",
    "    x = x.reshape((1,) + x.shape) #para poder ver la forma del arreglo\n",
    "    i = 0 #Difinimos i=0\n",
    "    for batch in datagen.flow(x, batch_size=1, # Interamos en el lote de la imagen\n",
    "            save_to_dir=\".\",  #Guardamos en el directorio\n",
    "            save_prefix= 'MosqueraLucy', #Un mensaje para guardar\n",
    "            save_format='jpg'): #Formato de la imagen\n",
    "        i += 1 #Autoincremente\n",
    "        if i == 10:     ## crea 10 imagenes por 1 imagen \n",
    "            break #Cierra del break"
   ]
  },
  {
   "cell_type": "code",
   "execution_count": 22,
   "id": "f0cb8b31",
   "metadata": {},
   "outputs": [],
   "source": [
    "\n",
    "#Seleccionamos la carpeta donde para el aumento de datos y la clase\n",
    "os.chdir(r\"C:\\Users\\JHONZ\\Desktop\\V2-IAPRO\\AumentoDatos\\NatalyAcosta\")\n",
    "for path in os.listdir():  #Se itera en cada carpeta\n",
    "    img = load_img(f\"{path}\") #Cargamos la imagen del directorio\n",
    "    x = img_to_array(img)    # matriz de la foto\n",
    "    x = x.reshape((1,) + x.shape) #para poder ver la forma del arreglo\n",
    "    i = 0 #Difinimos i=0\n",
    "    for batch in datagen.flow(x, batch_size=1, # Interamos en el lote de la imagen\n",
    "            save_to_dir=\".\",  #Guardamos en el directorio\n",
    "            save_prefix= 'NatalyAcosta', #Un mensaje para guardar\n",
    "            save_format='jpg'): #Formato de la imagen\n",
    "        i += 1 #Autoincremente\n",
    "        if i == 10:     ## crea 10 imagenes por 1 imagen \n",
    "            break #Cierra del break"
   ]
  },
  {
   "cell_type": "code",
   "execution_count": 23,
   "id": "4b63681f",
   "metadata": {},
   "outputs": [],
   "source": [
    "\n",
    "#Seleccionamos la carpeta donde para el aumento de datos y la clase\n",
    "os.chdir(r\"C:\\Users\\JHONZ\\Desktop\\V2-IAPRO\\AumentoDatos\\OlallaLuis\")\n",
    "for path in os.listdir():  #Se itera en cada carpeta\n",
    "    img = load_img(f\"{path}\") #Cargamos la imagen del directorio\n",
    "    x = img_to_array(img)    # matriz de la foto\n",
    "    x = x.reshape((1,) + x.shape) #para poder ver la forma del arreglo\n",
    "    i = 0 #Difinimos i=0\n",
    "    for batch in datagen.flow(x, batch_size=1, # Interamos en el lote de la imagen\n",
    "            save_to_dir=\".\",  #Guardamos en el directorio\n",
    "            save_prefix= 'OlallaLuis', #Un mensaje para guardar\n",
    "            save_format='jpg'): #Formato de la imagen\n",
    "        i += 1 #Autoincremente\n",
    "        if i == 10:     ## crea 10 imagenes por 1 imagen \n",
    "            break #Cierra del break"
   ]
  },
  {
   "cell_type": "code",
   "execution_count": 23,
   "id": "45386fd2",
   "metadata": {},
   "outputs": [],
   "source": []
  },
  {
   "cell_type": "code",
   "execution_count": 24,
   "id": "09b0f8a2",
   "metadata": {},
   "outputs": [],
   "source": [
    "\n",
    "#Seleccionamos la carpeta donde para el aumento de datos y la clase\n",
    "os.chdir(r\"C:\\Users\\JHONZ\\Desktop\\V2-IAPRO\\AumentoDatos\\PauteKevin\")\n",
    "for path in os.listdir():  #Se itera en cada carpeta\n",
    "    img = load_img(f\"{path}\") #Cargamos la imagen del directorio\n",
    "    x = img_to_array(img)    # matriz de la foto\n",
    "    x = x.reshape((1,) + x.shape) #para poder ver la forma del arreglo\n",
    "    i = 0 #Difinimos i=0\n",
    "    for batch in datagen.flow(x, batch_size=1, # Interamos en el lote de la imagen\n",
    "            save_to_dir=\".\",  #Guardamos en el directorio\n",
    "            save_prefix= 'PauteKevin', #Un mensaje para guardar\n",
    "            save_format='jpg'): #Formato de la imagen\n",
    "        i += 1 #Autoincremente\n",
    "        if i == 10:     ## crea 10 imagenes por 1 imagen \n",
    "            break #Cierra del break"
   ]
  },
  {
   "cell_type": "code",
   "execution_count": 25,
   "id": "f763f05d",
   "metadata": {},
   "outputs": [],
   "source": [
    "\n",
    "#Seleccionamos la carpeta donde para el aumento de datos y la clase\n",
    "os.chdir(r\"C:\\Users\\JHONZ\\Desktop\\V2-IAPRO\\AumentoDatos\\RaymondDavila\")\n",
    "for path in os.listdir():  #Se itera en cada carpeta\n",
    "    img = load_img(f\"{path}\") #Cargamos la imagen del directorio\n",
    "    x = img_to_array(img)    # matriz de la foto\n",
    "    x = x.reshape((1,) + x.shape) #para poder ver la forma del arreglo\n",
    "    i = 0 #Difinimos i=0\n",
    "    for batch in datagen.flow(x, batch_size=1, # Interamos en el lote de la imagen\n",
    "            save_to_dir=\".\",  #Guardamos en el directorio\n",
    "            save_prefix= 'RaymondDavila ', #Un mensaje para guardar\n",
    "            save_format='jpg'): #Formato de la imagen\n",
    "        i += 1 #Autoincremente\n",
    "        if i == 10:     ## crea 10 imagenes por 1 imagen \n",
    "            break #Cierra del break"
   ]
  },
  {
   "cell_type": "code",
   "execution_count": 26,
   "id": "5dd696a7",
   "metadata": {},
   "outputs": [],
   "source": [
    "#Seleccionamos la carpeta donde para el aumento de datos y la clase\n",
    "os.chdir(r\"C:\\Users\\JHONZ\\Desktop\\V2-IAPRO\\AumentoDatos\\RivasSelena\")\n",
    "for path in os.listdir():  #Se itera en cada carpeta\n",
    "    img = load_img(f\"{path}\") #Cargamos la imagen del directorio\n",
    "    x = img_to_array(img)    # matriz de la foto\n",
    "    x = x.reshape((1,) + x.shape) #para poder ver la forma del arreglo\n",
    "    i = 0 #Difinimos i=0\n",
    "    for batch in datagen.flow(x, batch_size=1, # Interamos en el lote de la imagen\n",
    "            save_to_dir=\".\",  #Guardamos en el directorio\n",
    "            save_prefix= 'RivasSelena', #Un mensaje para guardar\n",
    "            save_format='jpg'): #Formato de la imagen\n",
    "        i += 1 #Autoincremente\n",
    "        if i == 10:     ## crea 10 imagenes por 1 imagen \n",
    "            break #Cierra del brea"
   ]
  },
  {
   "cell_type": "code",
   "execution_count": 27,
   "id": "01a5f735",
   "metadata": {},
   "outputs": [],
   "source": [
    "\n",
    "#Seleccionamos la carpeta donde para el aumento de datos y la clase\n",
    "os.chdir(r\"C:\\Users\\JHONZ\\Desktop\\V2-IAPRO\\AumentoDatos\\SalazarJohana\")\n",
    "for path in os.listdir():  #Se itera en cada carpeta\n",
    "    img = load_img(f\"{path}\") #Cargamos la imagen del directorio\n",
    "    x = img_to_array(img)    # matriz de la foto\n",
    "    x = x.reshape((1,) + x.shape) #para poder ver la forma del arreglo\n",
    "    i = 0 #Difinimos i=0\n",
    "    for batch in datagen.flow(x, batch_size=1, # Interamos en el lote de la imagen\n",
    "            save_to_dir=\".\",  #Guardamos en el directorio\n",
    "            save_prefix= 'SalazarJohana', #Un mensaje para guardar\n",
    "            save_format='jpg'): #Formato de la imagen\n",
    "        i += 1 #Autoincremente\n",
    "        if i == 10:     ## crea 10 imagenes por 1 imagen \n",
    "            break #Cierra del brea"
   ]
  },
  {
   "cell_type": "code",
   "execution_count": 28,
   "id": "1b26547c",
   "metadata": {},
   "outputs": [],
   "source": [
    "\n",
    "#Seleccionamos la carpeta donde para el aumento de datos y la clase\n",
    "os.chdir(r\"C:\\Users\\JHONZ\\Desktop\\V2-IAPRO\\AumentoDatos\\SolanoWilmer\")\n",
    "for path in os.listdir():  #Se itera en cada carpeta\n",
    "    img = load_img(f\"{path}\") #Cargamos la imagen del directorio\n",
    "    x = img_to_array(img)    # matriz de la foto\n",
    "    x = x.reshape((1,) + x.shape) #para poder ver la forma del arreglo\n",
    "    i = 0 #Difinimos i=0\n",
    "    for batch in datagen.flow(x, batch_size=1, # Interamos en el lote de la imagen\n",
    "            save_to_dir=\".\",  #Guardamos en el directorio\n",
    "            save_prefix= 'SolanoWilmer', #Un mensaje para guardar\n",
    "            save_format='jpg'): #Formato de la imagen\n",
    "        i += 1 #Autoincremente\n",
    "        if i == 10:     ## crea 10 imagenes por 1 imagen \n",
    "            break #Cierra del brea"
   ]
  },
  {
   "cell_type": "code",
   "execution_count": 29,
   "id": "f24123c1",
   "metadata": {},
   "outputs": [],
   "source": [
    "#Seleccionamos la carpeta donde para el aumento de datos y la clase\n",
    "os.chdir(r\"C:\\Users\\JHONZ\\Desktop\\V2-IAPRO\\AumentoDatos\\SolorzanoBryan\")\n",
    "for path in os.listdir():  #Se itera en cada carpeta\n",
    "    img = load_img(f\"{path}\") #Cargamos la imagen del directorio\n",
    "    x = img_to_array(img)    # matriz de la foto\n",
    "    x = x.reshape((1,) + x.shape) #para poder ver la forma del arreglo\n",
    "    i = 0 #Difinimos i=0\n",
    "    for batch in datagen.flow(x, batch_size=1, # Interamos en el lote de la imagen\n",
    "            save_to_dir=\".\",  #Guardamos en el directorio\n",
    "            save_prefix= 'SolorzanoBryan', #Un mensaje para guardar\n",
    "            save_format='jpg'): #Formato de la imagen\n",
    "        i += 1 #Autoincremente\n",
    "        if i == 10:     ## crea 10 imagenes por 1 imagen \n",
    "            break #Cierra del brea"
   ]
  },
  {
   "cell_type": "code",
   "execution_count": 30,
   "id": "ea6a1268",
   "metadata": {},
   "outputs": [],
   "source": [
    "\n",
    "#Seleccionamos la carpeta donde para el aumento de datos y la clase\n",
    "os.chdir(r\"C:\\Users\\JHONZ\\Desktop\\V2-IAPRO\\AumentoDatos\\VinicioBorja\")\n",
    "for path in os.listdir():  #Se itera en cada carpeta\n",
    "    img = load_img(f\"{path}\") #Cargamos la imagen del directorio\n",
    "    x = img_to_array(img)    # matriz de la foto\n",
    "    x = x.reshape((1,) + x.shape) #para poder ver la forma del arreglo\n",
    "    i = 0 #Difinimos i=0\n",
    "    for batch in datagen.flow(x, batch_size=1, # Interamos en el lote de la imagen\n",
    "            save_to_dir=\".\",  #Guardamos en el directorio\n",
    "            save_prefix= 'VinicioBorja', #Un mensaje para guardar\n",
    "            save_format='jpg'): #Formato de la imagen\n",
    "        i += 1 #Autoincremente\n",
    "        if i == 10:     ## crea 10 imagenes por 1 imagen \n",
    "            break #Cierra del brea"
   ]
  },
  {
   "cell_type": "markdown",
   "id": "34dc3f87",
   "metadata": {},
   "source": [
    "# Regresar al otro Notebook"
   ]
  },
  {
   "cell_type": "code",
   "execution_count": null,
   "id": "3996e3d6",
   "metadata": {},
   "outputs": [],
   "source": []
  }
 ],
 "metadata": {
  "kernelspec": {
   "display_name": "Python 3 (ipykernel)",
   "language": "python",
   "name": "python3"
  },
  "language_info": {
   "codemirror_mode": {
    "name": "ipython",
    "version": 3
   },
   "file_extension": ".py",
   "mimetype": "text/x-python",
   "name": "python",
   "nbconvert_exporter": "python",
   "pygments_lexer": "ipython3",
   "version": "3.9.12"
  }
 },
 "nbformat": 4,
 "nbformat_minor": 5
}
